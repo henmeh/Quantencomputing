{
 "cells": [
  {
   "cell_type": "markdown",
   "metadata": {},
   "source": [
    "### Classical search"
   ]
  },
  {
   "cell_type": "code",
   "execution_count": 4,
   "metadata": {},
   "outputs": [
    {
     "name": "stdout",
     "output_type": "stream",
     "text": [
      "51.0636\n"
     ]
    }
   ],
   "source": [
    "import random\n",
    "import numpy as np\n",
    "\n",
    "trials = []\n",
    "for _ in range(10000):\n",
    "    winning_number = 42\n",
    "    numbers = random.sample(range(0, 101), 101)\n",
    "\n",
    "    def oracle(number):\n",
    "        return number == winning_number\n",
    "\n",
    "    for index, num in enumerate(numbers):\n",
    "        if oracle(num):\n",
    "            trials.append(index + 1)\n",
    "            break\n",
    "    \n",
    "#search is O(n)\n",
    "print(np.mean(trials))"
   ]
  }
 ],
 "metadata": {
  "kernelspec": {
   "display_name": "Python 3",
   "language": "python",
   "name": "python3"
  },
  "language_info": {
   "codemirror_mode": {
    "name": "ipython",
    "version": 3
   },
   "file_extension": ".py",
   "mimetype": "text/x-python",
   "name": "python",
   "nbconvert_exporter": "python",
   "pygments_lexer": "ipython3",
   "version": "3.10.12"
  }
 },
 "nbformat": 4,
 "nbformat_minor": 2
}
