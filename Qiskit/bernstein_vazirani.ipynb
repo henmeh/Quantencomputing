{
 "cells": [
  {
   "cell_type": "code",
   "execution_count": 16,
   "metadata": {},
   "outputs": [],
   "source": [
    "%matplotlib inline\n",
    "from qiskit import QuantumCircuit\n",
    "from qiskit.transpiler.preset_passmanagers import generate_preset_pass_manager\n",
    "from qiskit.providers.fake_provider import GenericBackendV2\n",
    "from qiskit_ibm_runtime import SamplerV2 as Sampler\n",
    "from qiskit.visualization import plot_histogram"
   ]
  },
  {
   "cell_type": "code",
   "execution_count": 17,
   "metadata": {},
   "outputs": [],
   "source": [
    "secret_number = \"10001011\""
   ]
  },
  {
   "cell_type": "code",
   "execution_count": 18,
   "metadata": {},
   "outputs": [],
   "source": [
    "backend = GenericBackendV2(num_qubits=len(secret_number)+1)\n",
    "sampler = Sampler(mode=backend)\n",
    "\n",
    "pm = generate_preset_pass_manager(backend=backend, optimization_level=1)"
   ]
  },
  {
   "cell_type": "code",
   "execution_count": 19,
   "metadata": {},
   "outputs": [
    {
     "data": {
      "text/plain": [
       "<qiskit.circuit.instructionset.InstructionSet at 0x7fe2dee865c0>"
      ]
     },
     "execution_count": 19,
     "metadata": {},
     "output_type": "execute_result"
    }
   ],
   "source": [
    "qc = QuantumCircuit(len(secret_number)+1, len(secret_number))\n",
    "\n",
    "qc.h(range(len(secret_number)))\n",
    "qc.x(len(secret_number))\n",
    "qc.h(len(secret_number))\n",
    "\n",
    "qc.barrier()\n",
    "\n",
    "for index, one in enumerate(secret_number[::-1]):\n",
    "    if one == \"1\":\n",
    "        qc.cx(index, len(secret_number))\n",
    "\n",
    "qc.barrier()\n",
    "\n",
    "qc.h(range(len(secret_number)))\n",
    "\n",
    "qc.barrier()\n",
    "\n",
    "qc.measure(range(len(secret_number)), range(len(secret_number)))\n",
    "\n",
    "#qc.draw(output=\"mpl\")"
   ]
  },
  {
   "cell_type": "code",
   "execution_count": 20,
   "metadata": {},
   "outputs": [
    {
     "name": "stderr",
     "output_type": "stream",
     "text": [
      "/home/henning/.local/lib/python3.10/site-packages/qiskit/providers/fake_provider/generic_backend_v2.py:975: RuntimeWarning: Aer not found using BasicSimulator and no noise\n",
      "  warnings.warn(\"Aer not found using BasicSimulator and no noise\", RuntimeWarning)\n"
     ]
    }
   ],
   "source": [
    "isa_circuit = pm.run(qc)\n",
    "job = sampler.run([isa_circuit], shots=1)\n",
    "result = job.result()\n",
    "pub_result = result[0]"
   ]
  },
  {
   "cell_type": "code",
   "execution_count": 21,
   "metadata": {},
   "outputs": [
    {
     "data": {
      "image/png": "[encoded data removed]",
      "text/plain": [
       "<Figure size 432x288 with 1 Axes>"
      ]
     },
     "execution_count": 21,
     "metadata": {},
     "output_type": "execute_result"
    }
   ],
   "source": [
    "plot_histogram(pub_result.data.c.get_counts())"
   ]
  },
  {
   "cell_type": "code",
   "execution_count": 22,
   "metadata": {},
   "outputs": [
    {
     "name": "stdout",
     "output_type": "stream",
     "text": [
      "Secret string found: 10001011\n"
     ]
    }
   ],
   "source": [
    "def classical_bernstein_vazirani(oracle_function, n):\n",
    "    \"\"\"\n",
    "    Solve the Bernstein-Vazirani problem classically.\n",
    "\n",
    "    Args:\n",
    "        oracle_function: A function that implements f(x) = s · x (mod 2).\n",
    "        n: The length of the secret string s.\n",
    "\n",
    "    Returns:\n",
    "        The secret string s as a binary string.\n",
    "    \"\"\"\n",
    "    secret_string = \"\"\n",
    "    for i in range(n):\n",
    "        # Query the oracle with standard basis vector [0,...,1,...,0]\n",
    "        x = 1 << i  # Binary representation of a standard basis vector\n",
    "        result = oracle_function(x)\n",
    "        secret_string = str(result) + secret_string  # Append result to the secret string\n",
    "    \n",
    "    return secret_string\n",
    "\n",
    "# Oracle function: f(x) = s · x (mod 2)\n",
    "def oracle_function(x, secret_string):\n",
    "    \"\"\"\n",
    "    Simulates the oracle f(x) = s · x (mod 2).\n",
    "\n",
    "    Args:\n",
    "        x: Input to the oracle as an integer.\n",
    "        secret_string: The secret string s as a binary string.\n",
    "\n",
    "    Returns:\n",
    "        Result of the dot product s · x (mod 2).\n",
    "    \"\"\"\n",
    "    s = int(secret_string, 2)  # Convert binary string to integer\n",
    "    return bin(s & x).count(\"1\") % 2  # Compute s · x (mod 2)\n",
    "\n",
    "# Define the secret string (e.g., \"101\")\n",
    "secret_string = \"10001011\"\n",
    "n = len(secret_string)\n",
    "\n",
    "# Solve the problem using the classical approach\n",
    "solved_string = classical_bernstein_vazirani(lambda x: oracle_function(x, secret_string), n)\n",
    "\n",
    "# Output the result\n",
    "print(\"Secret string found:\", solved_string)\n"
   ]
  },
  {
   "cell_type": "code",
   "execution_count": null,
   "metadata": {},
   "outputs": [],
   "source": []
  }
 ],
 "metadata": {
  "kernelspec": {
   "display_name": "Python 3",
   "language": "python",
   "name": "python3"
  },
  "language_info": {
   "codemirror_mode": {
    "name": "ipython",
    "version": 3
   },
   "file_extension": ".py",
   "mimetype": "text/x-python",
   "name": "python",
   "nbconvert_exporter": "python",
   "pygments_lexer": "ipython3",
   "version": "3.10.12"
  }
 },
 "nbformat": 4,
 "nbformat_minor": 2
}
