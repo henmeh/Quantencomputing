{
 "cells": [
  {
   "cell_type": "code",
   "execution_count": 11,
   "metadata": {},
   "outputs": [],
   "source": [
    "from qiskit_ibm_runtime import SamplerV2 as Sampler\n",
    " \n",
    "# Define a local backend\n",
    "from qiskit_ibm_runtime.fake_provider import FakeManilaV2\n",
    "backend = FakeManilaV2()\n",
    " \n",
    "# Define a real backend\n",
    "# from qiskit_ibm_runtime import QiskitRuntimeService\n",
    "# service = QiskitRuntimeService()\n",
    "# backend = service.least_busy(operational=True, simulator=False)\n",
    " \n",
    "from qiskit import QuantumCircuit\n",
    " \n",
    "circuit = QuantumCircuit(4)\n",
    "circuit.h(range(2))\n",
    "circuit.cx(0,1)\n",
    "circuit.measure_all() # measurement!\n",
    "\n",
    "circuit.draw(output='mpl')\n",
    " \n",
    "# Circuits must obey the ISA of the backend.\n",
    "# Convert to ISA circuits\n",
    "from qiskit.transpiler.preset_passmanagers import generate_preset_pass_manager\n",
    " \n",
    "pm = generate_preset_pass_manager(backend=backend, optimization_level=1)\n",
    "isa_circuit = pm.run(circuit)"
   ]
  },
  {
   "cell_type": "code",
   "execution_count": 12,
   "metadata": {},
   "outputs": [
    {
     "name": "stdout",
     "output_type": "stream",
     "text": [
      "SamplerPubResult(data=DataBin(meas=BitArray(<shape=(), num_shots=1024, num_bits=4>)), metadata={'shots': 1024, 'circuit_metadata': {}})\n",
      " >> Meas output register counts: {'0000': 257, '0010': 264, '0001': 252, '0011': 251}\n"
     ]
    },
    {
     "name": "stderr",
     "output_type": "stream",
     "text": [
      "/home/henning/.local/lib/python3.10/site-packages/qiskit_ibm_runtime/fake_provider/fake_backend.py:468: RuntimeWarning: Aer not found, using qiskit.BasicSimulator and no noise.\n",
      "  warnings.warn(\n"
     ]
    }
   ],
   "source": [
    "sampler = Sampler(mode=backend)\n",
    " \n",
    "job = sampler.run([isa_circuit])\n",
    " \n",
    "result = job.result()\n",
    "# Get results for the first (and only) PUB\n",
    "pub_result = result[0]\n",
    "print(pub_result)\n",
    " \n",
    "# Get counts from the classical register \"meas\".\n",
    "print(f\" >> Meas output register counts: {pub_result.data.meas.get_counts()}\")"
   ]
  },
  {
   "cell_type": "code",
   "execution_count": 13,
   "metadata": {},
   "outputs": [
    {
     "data": {
      "image/png": "[encoded data removed]",
      "text/plain": [
       "<Figure size 432x288 with 1 Axes>"
      ]
     },
     "execution_count": 13,
     "metadata": {},
     "output_type": "execute_result"
    }
   ],
   "source": [
    "from qiskit.visualization import plot_histogram\n",
    "plot_histogram(pub_result.data.meas.get_counts())\n",
    "\n"
   ]
  }
 ],
 "metadata": {
  "kernelspec": {
   "display_name": "Python 3",
   "language": "python",
   "name": "python3"
  },
  "language_info": {
   "codemirror_mode": {
    "name": "ipython",
    "version": 3
   },
   "file_extension": ".py",
   "mimetype": "text/x-python",
   "name": "python",
   "nbconvert_exporter": "python",
   "pygments_lexer": "ipython3",
   "version": "3.10.12"
  }
 },
 "nbformat": 4,
 "nbformat_minor": 2
}
