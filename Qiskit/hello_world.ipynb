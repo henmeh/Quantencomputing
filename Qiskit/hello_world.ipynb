{
 "cells": [
  {
   "cell_type": "code",
   "execution_count": 6,
   "metadata": {},
   "outputs": [],
   "source": [
    "from qiskit import *\n",
    "from numpy import pi\n",
    "\n",
    "circuit = QuantumCircuit(2, 2)\n"
   ]
  },
  {
   "cell_type": "code",
   "execution_count": 7,
   "metadata": {},
   "outputs": [],
   "source": [
    "%matplotlib inline"
   ]
  },
  {
   "cell_type": "code",
   "execution_count": 8,
   "metadata": {},
   "outputs": [
    {
     "data": {
      "image/png": "[encoded data removed]",
      "text/plain": [
       "<Figure size 327.252x204.68 with 1 Axes>"
      ]
     },
     "execution_count": 8,
     "metadata": {},
     "output_type": "execute_result"
    }
   ],
   "source": [
    "circuit.h(0)\n",
    "circuit.cx(0, 1)\n",
    "circuit.measure([0, 1], [0, 1])\n",
    "\n",
    "circuit.draw(output='mpl')"
   ]
  },
  {
   "cell_type": "code",
   "execution_count": null,
   "metadata": {},
   "outputs": [
    {
     "name": "stderr",
     "output_type": "stream",
     "text": [
      "/home/henning/.local/lib/python3.10/site-packages/qiskit_ibm_runtime/fake_provider/fake_backend.py:468: RuntimeWarning: Aer not found, using qiskit.BasicSimulator and no noise.\n",
      "  warnings.warn(\n"
     ]
    }
   ],
   "source": [
    "from qiskit_ibm_runtime.fake_provider import FakeAlmadenV2\n",
    "from qiskit_ibm_runtime import EstimatorV2 as Estimator\n",
    "from qiskit.quantum_info import SparsePauliOp\n",
    "\n",
    "\n",
    "backend = FakeAlmadenV2()\n",
    "estimator = Estimator(backend)\n",
    "\n",
    "pm = generate_preset_pass_manager(backend=backend, optimization_level=1)\n",
    "isa_circuit = pm.run(circuit)\n",
    "\n",
    "\n",
    "observables_labels = [\"IZ\", \"IX\", \"ZI\", \"XI\", \"ZZ\", \"XX\"]\n",
    "observables = [SparsePauliOp(label) for label in observables_labels]\n",
    "\n",
    "mapped_observables = [\n",
    "    observable.apply_layout(isa_circuit.layout) for observable in observables\n",
    "]\n",
    " \n",
    "job = estimator.run([(isa_circuit, mapped_observables)])\n",
    "result = job.result()\n",
    "\n",
    "from qiskit.visualization import plot_histogram\n",
    "\n",
    "plot_histogram(result.get_counts(circuit))\n",
    " \n",
    "# This is the result of the entire submission.  You submitted one Pub,\n",
    "# so this contains one inner result (and some metadata of its own).\n",
    " \n",
    "#job_result = job.result()\n",
    " \n",
    "# This is the result from our single pub, which had five observables,\n",
    "# so contains information on all five.\n",
    " \n",
    "#pub_result = job.result()[0]\n",
    "\n"
   ]
  },
  {
   "cell_type": "code",
   "execution_count": null,
   "metadata": {},
   "outputs": [],
   "source": []
  }
 ],
 "metadata": {
  "kernelspec": {
   "display_name": "Python 3",
   "language": "python",
   "name": "python3"
  },
  "language_info": {
   "codemirror_mode": {
    "name": "ipython",
    "version": 3
   },
   "file_extension": ".py",
   "mimetype": "text/x-python",
   "name": "python",
   "nbconvert_exporter": "python",
   "pygments_lexer": "ipython3",
   "version": "3.10.12"
  }
 },
 "nbformat": 4,
 "nbformat_minor": 2
}
